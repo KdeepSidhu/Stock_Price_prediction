{
 "cells": [
  {
   "cell_type": "code",
   "execution_count": 1,
   "id": "5808fff0",
   "metadata": {},
   "outputs": [],
   "source": [
    "import pandas as pd"
   ]
  },
  {
   "cell_type": "code",
   "execution_count": 2,
   "id": "5e67ef8f",
   "metadata": {},
   "outputs": [],
   "source": [
    "df = pd.read_csv('./TSLA.csv')"
   ]
  },
  {
   "cell_type": "code",
   "execution_count": 3,
   "id": "c43c61d6",
   "metadata": {},
   "outputs": [
    {
     "data": {
      "text/html": [
       "<div>\n",
       "<style scoped>\n",
       "    .dataframe tbody tr th:only-of-type {\n",
       "        vertical-align: middle;\n",
       "    }\n",
       "\n",
       "    .dataframe tbody tr th {\n",
       "        vertical-align: top;\n",
       "    }\n",
       "\n",
       "    .dataframe thead th {\n",
       "        text-align: right;\n",
       "    }\n",
       "</style>\n",
       "<table border=\"1\" class=\"dataframe\">\n",
       "  <thead>\n",
       "    <tr style=\"text-align: right;\">\n",
       "      <th></th>\n",
       "      <th>date</th>\n",
       "      <th>open</th>\n",
       "      <th>high</th>\n",
       "      <th>low</th>\n",
       "      <th>close</th>\n",
       "      <th>adj close</th>\n",
       "      <th>volume</th>\n",
       "    </tr>\n",
       "  </thead>\n",
       "  <tbody>\n",
       "    <tr>\n",
       "      <th>0</th>\n",
       "      <td>2020-04-13</td>\n",
       "      <td>118.031998</td>\n",
       "      <td>130.399994</td>\n",
       "      <td>116.106003</td>\n",
       "      <td>130.190002</td>\n",
       "      <td>130.190002</td>\n",
       "      <td>112377000</td>\n",
       "    </tr>\n",
       "    <tr>\n",
       "      <th>1</th>\n",
       "      <td>2020-04-14</td>\n",
       "      <td>139.794006</td>\n",
       "      <td>148.376007</td>\n",
       "      <td>138.485992</td>\n",
       "      <td>141.977997</td>\n",
       "      <td>141.977997</td>\n",
       "      <td>152882500</td>\n",
       "    </tr>\n",
       "    <tr>\n",
       "      <th>2</th>\n",
       "      <td>2020-04-15</td>\n",
       "      <td>148.399994</td>\n",
       "      <td>150.626007</td>\n",
       "      <td>142.000000</td>\n",
       "      <td>145.966003</td>\n",
       "      <td>145.966003</td>\n",
       "      <td>117885000</td>\n",
       "    </tr>\n",
       "    <tr>\n",
       "      <th>3</th>\n",
       "      <td>2020-04-16</td>\n",
       "      <td>143.388000</td>\n",
       "      <td>151.889999</td>\n",
       "      <td>141.343994</td>\n",
       "      <td>149.042007</td>\n",
       "      <td>149.042007</td>\n",
       "      <td>103289500</td>\n",
       "    </tr>\n",
       "    <tr>\n",
       "      <th>4</th>\n",
       "      <td>2020-04-17</td>\n",
       "      <td>154.455994</td>\n",
       "      <td>154.990005</td>\n",
       "      <td>149.531998</td>\n",
       "      <td>150.778000</td>\n",
       "      <td>150.778000</td>\n",
       "      <td>65641000</td>\n",
       "    </tr>\n",
       "  </tbody>\n",
       "</table>\n",
       "</div>"
      ],
      "text/plain": [
       "         date        open        high         low       close   adj close  \\\n",
       "0  2020-04-13  118.031998  130.399994  116.106003  130.190002  130.190002   \n",
       "1  2020-04-14  139.794006  148.376007  138.485992  141.977997  141.977997   \n",
       "2  2020-04-15  148.399994  150.626007  142.000000  145.966003  145.966003   \n",
       "3  2020-04-16  143.388000  151.889999  141.343994  149.042007  149.042007   \n",
       "4  2020-04-17  154.455994  154.990005  149.531998  150.778000  150.778000   \n",
       "\n",
       "      volume  \n",
       "0  112377000  \n",
       "1  152882500  \n",
       "2  117885000  \n",
       "3  103289500  \n",
       "4   65641000  "
      ]
     },
     "execution_count": 3,
     "metadata": {},
     "output_type": "execute_result"
    }
   ],
   "source": [
    "df.head()"
   ]
  },
  {
   "cell_type": "code",
   "execution_count": 4,
   "id": "237aec62",
   "metadata": {},
   "outputs": [
    {
     "data": {
      "text/plain": [
       "(251,)"
      ]
     },
     "execution_count": 4,
     "metadata": {},
     "output_type": "execute_result"
    }
   ],
   "source": [
    "df['close'].shape"
   ]
  },
  {
   "cell_type": "markdown",
   "id": "d66ad2fa",
   "metadata": {},
   "source": [
    "# Univariate Time Series Forcasting"
   ]
  },
  {
   "cell_type": "code",
   "execution_count": 5,
   "id": "5ab07249",
   "metadata": {},
   "outputs": [
    {
     "data": {
      "text/plain": [
       "<AxesSubplot:>"
      ]
     },
     "execution_count": 5,
     "metadata": {},
     "output_type": "execute_result"
    },
    {
     "data": {
      "image/png": "[encoded data removed]",
      "text/plain": [
       "<Figure size 432x288 with 1 Axes>"
      ]
     },
     "metadata": {
      "needs_background": "light"
     },
     "output_type": "display_data"
    }
   ],
   "source": [
    "df['close'].plot()"
   ]
  },
  {
   "cell_type": "code",
   "execution_count": 6,
   "id": "03696c22",
   "metadata": {},
   "outputs": [],
   "source": [
    "from sklearn.preprocessing import MinMaxScaler\n",
    "scaler = MinMaxScaler()\n",
    "scaled = scaler.fit_transform(df['close'].values.reshape(-1,1))"
   ]
  },
  {
   "cell_type": "code",
   "execution_count": 7,
   "id": "227394d3",
   "metadata": {},
   "outputs": [
    {
     "data": {
      "text/plain": [
       "(251, 1)"
      ]
     },
     "execution_count": 7,
     "metadata": {},
     "output_type": "execute_result"
    }
   ],
   "source": [
    "scaled.shape"
   ]
  },
  {
   "cell_type": "code",
   "execution_count": 8,
   "id": "035d2f2b",
   "metadata": {},
   "outputs": [],
   "source": [
    "# scaled[0:20,0]"
   ]
  },
  {
   "cell_type": "code",
   "execution_count": 9,
   "id": "363fa042",
   "metadata": {},
   "outputs": [],
   "source": [
    "# scaled = df['close'].values.reshape(-1,1)"
   ]
  },
  {
   "cell_type": "code",
   "execution_count": 10,
   "id": "c4ccf291",
   "metadata": {},
   "outputs": [],
   "source": [
    "x = []\n",
    "y = []\n",
    "b =20\n",
    "\n",
    "for i in range(b,len(scaled)):\n",
    "    x.append(scaled[i-b:i,0].reshape(-1,1))\n",
    "    y.append(scaled[i-1,0])"
   ]
  },
  {
   "cell_type": "code",
   "execution_count": 11,
   "id": "37c80499",
   "metadata": {},
   "outputs": [],
   "source": [
    "import numpy as np"
   ]
  },
  {
   "cell_type": "code",
   "execution_count": 12,
   "id": "5c5ec313",
   "metadata": {},
   "outputs": [],
   "source": [
    "from sklearn.model_selection import train_test_split\n",
    "x_train,x_test, y_train,y_test = train_test_split(x,y ,test_size = 0.2 ,shuffle=False)"
   ]
  },
  {
   "cell_type": "code",
   "execution_count": 13,
   "id": "956e2169",
   "metadata": {},
   "outputs": [],
   "source": [
    "x_train = np.array(x_train)\n",
    "x_test = np.array(x_test)\n",
    "y_train = np.array(y_train)\n",
    "y_test = np.array(y_test)"
   ]
  },
  {
   "cell_type": "code",
   "execution_count": 14,
   "id": "c01c7e60",
   "metadata": {},
   "outputs": [
    {
     "data": {
      "text/plain": [
       "(184, 20, 1)"
      ]
     },
     "execution_count": 14,
     "metadata": {},
     "output_type": "execute_result"
    }
   ],
   "source": [
    "x_train.shape"
   ]
  },
  {
   "cell_type": "code",
   "execution_count": 15,
   "id": "697a604a",
   "metadata": {},
   "outputs": [
    {
     "data": {
      "text/plain": [
       "(184,)"
      ]
     },
     "execution_count": 15,
     "metadata": {},
     "output_type": "execute_result"
    }
   ],
   "source": [
    "y_train.shape"
   ]
  },
  {
   "cell_type": "code",
   "execution_count": 16,
   "id": "d65c8a8c",
   "metadata": {},
   "outputs": [
    {
     "name": "stdout",
     "output_type": "stream",
     "text": [
      "Model: \"sequential\"\n",
      "_________________________________________________________________\n",
      "Layer (type)                 Output Shape              Param #   \n",
      "=================================================================\n",
      "lstm (LSTM)                  (None, 50)                10400     \n",
      "_________________________________________________________________\n",
      "dense (Dense)                (None, 150)               7650      \n",
      "_________________________________________________________________\n",
      "dense_1 (Dense)              (None, 1)                 151       \n",
      "=================================================================\n",
      "Total params: 18,201\n",
      "Trainable params: 18,201\n",
      "Non-trainable params: 0\n",
      "_________________________________________________________________\n"
     ]
    }
   ],
   "source": [
    "from tensorflow.keras.models import Sequential\n",
    "from tensorflow.keras.layers import Dense, LSTM\n",
    "model = Sequential()\n",
    "model.add(LSTM(units=50,input_shape=(b,1)))\n",
    "model.add(Dense(150,activation ='relu'))\n",
    "model.add(Dense(1))\n",
    "model.compile(optimizer = 'adam',loss = 'MSE')\n",
    "model.summary()"
   ]
  },
  {
   "cell_type": "code",
   "execution_count": 17,
   "id": "9ef2b585",
   "metadata": {},
   "outputs": [
    {
     "data": {
      "text/plain": [
       "(184, 20, 1)"
      ]
     },
     "execution_count": 17,
     "metadata": {},
     "output_type": "execute_result"
    }
   ],
   "source": [
    "x_train.shape"
   ]
  },
  {
   "cell_type": "code",
   "execution_count": 18,
   "id": "faadec9b",
   "metadata": {},
   "outputs": [
    {
     "name": "stdout",
     "output_type": "stream",
     "text": [
      "Epoch 1/10\n",
      "46/46 [==============================] - 2s 11ms/step - loss: 0.0282\n",
      "Epoch 2/10\n",
      "46/46 [==============================] - 1s 21ms/step - loss: 0.0016\n",
      "Epoch 3/10\n",
      "46/46 [==============================] - 1s 17ms/step - loss: 0.0013\n",
      "Epoch 4/10\n",
      "46/46 [==============================] - 1s 13ms/step - loss: 0.0011\n",
      "Epoch 5/10\n",
      "46/46 [==============================] - 1s 21ms/step - loss: 0.0011\n",
      "Epoch 6/10\n",
      "46/46 [==============================] - 1s 15ms/step - loss: 0.0010\n",
      "Epoch 7/10\n",
      "46/46 [==============================] - 1s 11ms/step - loss: 9.9100e-04\n",
      "Epoch 8/10\n",
      "46/46 [==============================] - 0s 11ms/step - loss: 8.6876e-04\n",
      "Epoch 9/10\n",
      "46/46 [==============================] - 0s 11ms/step - loss: 0.0010\n",
      "Epoch 10/10\n",
      "46/46 [==============================] - 1s 11ms/step - loss: 7.4361e-04\n"
     ]
    },
    {
     "data": {
      "text/plain": [
       "<tensorflow.python.keras.callbacks.History at 0x7f438c47fc70>"
      ]
     },
     "execution_count": 18,
     "metadata": {},
     "output_type": "execute_result"
    }
   ],
   "source": [
    "model.fit(x_train,y_train ,epochs = 10 ,batch_size = 4)"
   ]
  },
  {
   "cell_type": "code",
   "execution_count": 19,
   "id": "d2c2ac34",
   "metadata": {},
   "outputs": [],
   "source": [
    "y_pred = model.predict(x_test)"
   ]
  },
  {
   "cell_type": "code",
   "execution_count": 20,
   "id": "73fa4140",
   "metadata": {},
   "outputs": [],
   "source": [
    "y_pred = scaler.inverse_transform(y_pred)\n",
    "y_test = scaler.inverse_transform(y_test.reshape(-1,1))"
   ]
  },
  {
   "cell_type": "code",
   "execution_count": 21,
   "id": "1c7601b7",
   "metadata": {},
   "outputs": [
    {
     "data": {
      "text/plain": [
       "<matplotlib.legend.Legend at 0x7f437d2d4f40>"
      ]
     },
     "execution_count": 21,
     "metadata": {},
     "output_type": "execute_result"
    },
    {
     "data": {
      "image/png": "[encoded data removed]",
      "text/plain": [
       "<Figure size 432x288 with 1 Axes>"
      ]
     },
     "metadata": {
      "needs_background": "light"
     },
     "output_type": "display_data"
    }
   ],
   "source": [
    "import matplotlib.pyplot as plt\n",
    "plt.plot(y_test ,label = \"testing_data\")\n",
    "plt.plot(y_pred ,label = \"predicted_data\")\n",
    "plt.legend()"
   ]
  },
  {
   "cell_type": "code",
   "execution_count": 45,
   "id": "ff2e2001",
   "metadata": {},
   "outputs": [],
   "source": [
    "n=47\n",
    "\n",
    "batch = x_train[-1].reshape(1,20,1)\n",
    "forecast =[]\n",
    "\n",
    "for i in range(n):\n",
    "    y_pred_new = model.predict(batch)\n",
    "    forecast.append(y_pred_new)\n",
    "    batch = np.append(batch,y_pred_new)[1:].reshape(1,20,1)"
   ]
  },
  {
   "cell_type": "code",
   "execution_count": 50,
   "id": "b63f1478",
   "metadata": {},
   "outputs": [],
   "source": [
    "forecast = scaler.inverse_transform(np.array(forecast).reshape(-1,1)).flatten()"
   ]
  },
  {
   "cell_type": "code",
   "execution_count": 51,
   "id": "f97dfea5",
   "metadata": {},
   "outputs": [
    {
     "data": {
      "text/plain": [
       "<matplotlib.legend.Legend at 0x7f4374bed910>"
      ]
     },
     "execution_count": 51,
     "metadata": {},
     "output_type": "execute_result"
    },
    {
     "data": {
      "image/png": "[encoded data removed]",
      "text/plain": [
       "<Figure size 432x288 with 1 Axes>"
      ]
     },
     "metadata": {
      "needs_background": "light"
     },
     "output_type": "display_data"
    }
   ],
   "source": [
    "plt.plot(y_test ,label = \"testing_data\")\n",
    "plt.plot(forecast ,label = \"forecast_data\")\n",
    "plt.legend()"
   ]
  },
  {
   "cell_type": "code",
   "execution_count": null,
   "id": "e80c07d8",
   "metadata": {},
   "outputs": [],
   "source": []
  }
 ],
 "metadata": {
  "kernelspec": {
   "display_name": "Python 3",
   "language": "python",
   "name": "python3"
  },
  "language_info": {
   "codemirror_mode": {
    "name": "ipython",
    "version": 3
   },
   "file_extension": ".py",
   "mimetype": "text/x-python",
   "name": "python",
   "nbconvert_exporter": "python",
   "pygments_lexer": "ipython3",
   "version": "3.8.5"
  }
 },
 "nbformat": 4,
 "nbformat_minor": 5
}
