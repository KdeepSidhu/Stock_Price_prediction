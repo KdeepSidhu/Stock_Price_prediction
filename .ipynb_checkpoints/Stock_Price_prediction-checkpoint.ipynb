{
 "cells": [
  {
   "cell_type": "code",
   "execution_count": 1,
   "id": "5808fff0",
   "metadata": {},
   "outputs": [],
   "source": [
    "import pandas as pd"
   ]
  },
  {
   "cell_type": "code",
   "execution_count": 2,
   "id": "5e67ef8f",
   "metadata": {},
   "outputs": [],
   "source": [
    "df = pd.read_csv('./TSLA.csv')"
   ]
  },
  {
   "cell_type": "code",
   "execution_count": 3,
   "id": "c43c61d6",
   "metadata": {},
   "outputs": [
    {
     "data": {
      "text/html": [
       "<div>\n",
       "<style scoped>\n",
       "    .dataframe tbody tr th:only-of-type {\n",
       "        vertical-align: middle;\n",
       "    }\n",
       "\n",
       "    .dataframe tbody tr th {\n",
       "        vertical-align: top;\n",
       "    }\n",
       "\n",
       "    .dataframe thead th {\n",
       "        text-align: right;\n",
       "    }\n",
       "</style>\n",
       "<table border=\"1\" class=\"dataframe\">\n",
       "  <thead>\n",
       "    <tr style=\"text-align: right;\">\n",
       "      <th></th>\n",
       "      <th>date</th>\n",
       "      <th>open</th>\n",
       "      <th>high</th>\n",
       "      <th>low</th>\n",
       "      <th>close</th>\n",
       "      <th>adj close</th>\n",
       "      <th>volume</th>\n",
       "    </tr>\n",
       "  </thead>\n",
       "  <tbody>\n",
       "    <tr>\n",
       "      <th>0</th>\n",
       "      <td>2020-04-13</td>\n",
       "      <td>118.031998</td>\n",
       "      <td>130.399994</td>\n",
       "      <td>116.106003</td>\n",
       "      <td>130.190002</td>\n",
       "      <td>130.190002</td>\n",
       "      <td>112377000</td>\n",
       "    </tr>\n",
       "    <tr>\n",
       "      <th>1</th>\n",
       "      <td>2020-04-14</td>\n",
       "      <td>139.794006</td>\n",
       "      <td>148.376007</td>\n",
       "      <td>138.485992</td>\n",
       "      <td>141.977997</td>\n",
       "      <td>141.977997</td>\n",
       "      <td>152882500</td>\n",
       "    </tr>\n",
       "    <tr>\n",
       "      <th>2</th>\n",
       "      <td>2020-04-15</td>\n",
       "      <td>148.399994</td>\n",
       "      <td>150.626007</td>\n",
       "      <td>142.000000</td>\n",
       "      <td>145.966003</td>\n",
       "      <td>145.966003</td>\n",
       "      <td>117885000</td>\n",
       "    </tr>\n",
       "    <tr>\n",
       "      <th>3</th>\n",
       "      <td>2020-04-16</td>\n",
       "      <td>143.388000</td>\n",
       "      <td>151.889999</td>\n",
       "      <td>141.343994</td>\n",
       "      <td>149.042007</td>\n",
       "      <td>149.042007</td>\n",
       "      <td>103289500</td>\n",
       "    </tr>\n",
       "    <tr>\n",
       "      <th>4</th>\n",
       "      <td>2020-04-17</td>\n",
       "      <td>154.455994</td>\n",
       "      <td>154.990005</td>\n",
       "      <td>149.531998</td>\n",
       "      <td>150.778000</td>\n",
       "      <td>150.778000</td>\n",
       "      <td>65641000</td>\n",
       "    </tr>\n",
       "  </tbody>\n",
       "</table>\n",
       "</div>"
      ],
      "text/plain": [
       "         date        open        high         low       close   adj close  \\\n",
       "0  2020-04-13  118.031998  130.399994  116.106003  130.190002  130.190002   \n",
       "1  2020-04-14  139.794006  148.376007  138.485992  141.977997  141.977997   \n",
       "2  2020-04-15  148.399994  150.626007  142.000000  145.966003  145.966003   \n",
       "3  2020-04-16  143.388000  151.889999  141.343994  149.042007  149.042007   \n",
       "4  2020-04-17  154.455994  154.990005  149.531998  150.778000  150.778000   \n",
       "\n",
       "      volume  \n",
       "0  112377000  \n",
       "1  152882500  \n",
       "2  117885000  \n",
       "3  103289500  \n",
       "4   65641000  "
      ]
     },
     "execution_count": 3,
     "metadata": {},
     "output_type": "execute_result"
    }
   ],
   "source": [
    "df.head()"
   ]
  },
  {
   "cell_type": "code",
   "execution_count": 4,
   "id": "237aec62",
   "metadata": {},
   "outputs": [
    {
     "data": {
      "text/plain": [
       "(251,)"
      ]
     },
     "execution_count": 4,
     "metadata": {},
     "output_type": "execute_result"
    }
   ],
   "source": [
    "df['close'].shape"
   ]
  },
  {
   "cell_type": "markdown",
   "id": "d66ad2fa",
   "metadata": {},
   "source": [
    "# Univariate Time Series Forcasting"
   ]
  },
  {
   "cell_type": "code",
   "execution_count": 5,
   "id": "5ab07249",
   "metadata": {},
   "outputs": [
    {
     "data": {
      "text/plain": [
       "<AxesSubplot:>"
      ]
     },
     "execution_count": 5,
     "metadata": {},
     "output_type": "execute_result"
    },
    {
     "data": {
      "image/png": "[encoded data removed]",
      "text/plain": [
       "<Figure size 432x288 with 1 Axes>"
      ]
     },
     "metadata": {
      "needs_background": "light"
     },
     "output_type": "display_data"
    }
   ],
   "source": [
    "df['close'].plot()"
   ]
  },
  {
   "cell_type": "code",
   "execution_count": 6,
   "id": "03696c22",
   "metadata": {},
   "outputs": [],
   "source": [
    "# from sklearn.preprocessing import MinMaxScaler\n",
    "# scaler = MinMaxScaler()\n",
    "# scaled = scaler.fit_transform(df['close'].values.reshape(-1,1))"
   ]
  },
  {
   "cell_type": "code",
   "execution_count": 7,
   "id": "227394d3",
   "metadata": {},
   "outputs": [],
   "source": [
    "# scaled.shape"
   ]
  },
  {
   "cell_type": "code",
   "execution_count": 8,
   "id": "035d2f2b",
   "metadata": {},
   "outputs": [],
   "source": [
    "# scaled[0:20,0]"
   ]
  },
  {
   "cell_type": "code",
   "execution_count": 9,
   "id": "363fa042",
   "metadata": {},
   "outputs": [],
   "source": [
    "scaled = df['close'].values.reshape(-1,1)"
   ]
  },
  {
   "cell_type": "code",
   "execution_count": 41,
   "id": "c4ccf291",
   "metadata": {},
   "outputs": [],
   "source": [
    "x = []\n",
    "y = []\n",
    "b =20\n",
    "\n",
    "for i in range(b,len(scaled)):\n",
    "    x.append(scaled[i-b:i,0].reshape(-1,1))\n",
    "    y.append(scaled[i-1,0])"
   ]
  },
  {
   "cell_type": "code",
   "execution_count": 12,
   "id": "37c80499",
   "metadata": {},
   "outputs": [],
   "source": [
    "import numpy as np"
   ]
  },
  {
   "cell_type": "code",
   "execution_count": 45,
   "id": "5c5ec313",
   "metadata": {},
   "outputs": [],
   "source": [
    "from sklearn.model_selection import train_test_split\n",
    "x_train,x_test, y_train,y_test = train_test_split(x,y ,test_size = 0.2 ,shuffle=False)"
   ]
  },
  {
   "cell_type": "code",
   "execution_count": 47,
   "id": "956e2169",
   "metadata": {},
   "outputs": [],
   "source": [
    "x_train = np.array(x_train)\n",
    "x_test = np.array(x_test)\n",
    "y_train = np.array(y_train)\n",
    "y_test = np.array(y_test)"
   ]
  },
  {
   "cell_type": "code",
   "execution_count": 48,
   "id": "c01c7e60",
   "metadata": {},
   "outputs": [
    {
     "data": {
      "text/plain": [
       "(184, 20, 1)"
      ]
     },
     "execution_count": 48,
     "metadata": {},
     "output_type": "execute_result"
    }
   ],
   "source": [
    "x_train.shape"
   ]
  },
  {
   "cell_type": "code",
   "execution_count": 49,
   "id": "d65c8a8c",
   "metadata": {},
   "outputs": [
    {
     "name": "stdout",
     "output_type": "stream",
     "text": [
      "Model: \"sequential_5\"\n",
      "_________________________________________________________________\n",
      "Layer (type)                 Output Shape              Param #   \n",
      "=================================================================\n",
      "lstm_5 (LSTM)                (None, 50)                10400     \n",
      "_________________________________________________________________\n",
      "dense_6 (Dense)              (None, 150)               7650      \n",
      "_________________________________________________________________\n",
      "dense_7 (Dense)              (None, 1)                 151       \n",
      "=================================================================\n",
      "Total params: 18,201\n",
      "Trainable params: 18,201\n",
      "Non-trainable params: 0\n",
      "_________________________________________________________________\n"
     ]
    }
   ],
   "source": [
    "from tensorflow.keras.models import Sequential\n",
    "from tensorflow.keras.layers import Dense, LSTM\n",
    "model = Sequential()\n",
    "model.add(LSTM(units=50,input_shape=(b,1)))\n",
    "model.add(Dense(150,activation ='relu'))\n",
    "model.add(Dense(1))\n",
    "model.compile(optimizer = 'adam',loss = 'MSE')\n",
    "model.summary()"
   ]
  },
  {
   "cell_type": "code",
   "execution_count": 50,
   "id": "faadec9b",
   "metadata": {},
   "outputs": [
    {
     "name": "stdout",
     "output_type": "stream",
     "text": [
      "Epoch 1/20\n",
      "184/184 [==============================] - 4s 12ms/step - loss: 186812.0156\n",
      "Epoch 2/20\n",
      "184/184 [==============================] - 2s 12ms/step - loss: 62503.6680\n",
      "Epoch 3/20\n",
      "184/184 [==============================] - 2s 13ms/step - loss: 23935.4727\n",
      "Epoch 4/20\n",
      "184/184 [==============================] - 3s 14ms/step - loss: 10398.2334\n",
      "Epoch 5/20\n",
      "184/184 [==============================] - 3s 14ms/step - loss: 5008.5522\n",
      "Epoch 6/20\n",
      "184/184 [==============================] - 2s 12ms/step - loss: 2622.3606\n",
      "Epoch 7/20\n",
      "184/184 [==============================] - 2s 11ms/step - loss: 2194.3152\n",
      "Epoch 8/20\n",
      "184/184 [==============================] - 2s 11ms/step - loss: 1269.5969\n",
      "Epoch 9/20\n",
      "184/184 [==============================] - 2s 11ms/step - loss: 802.6601\n",
      "Epoch 10/20\n",
      "184/184 [==============================] - 2s 12ms/step - loss: 1879.4806\n",
      "Epoch 11/20\n",
      "184/184 [==============================] - 2s 11ms/step - loss: 512.9709\n",
      "Epoch 12/20\n",
      "184/184 [==============================] - 2s 11ms/step - loss: 717.7806\n",
      "Epoch 13/20\n",
      "184/184 [==============================] - 2s 11ms/step - loss: 186.4181\n",
      "Epoch 14/20\n",
      "184/184 [==============================] - 2s 11ms/step - loss: 727.4528\n",
      "Epoch 15/20\n",
      "184/184 [==============================] - 2s 11ms/step - loss: 461.5002\n",
      "Epoch 16/20\n",
      "184/184 [==============================] - 2s 14ms/step - loss: 240.1743\n",
      "Epoch 17/20\n",
      "184/184 [==============================] - 2s 13ms/step - loss: 269.2648\n",
      "Epoch 18/20\n",
      "184/184 [==============================] - 2s 13ms/step - loss: 580.1179\n",
      "Epoch 19/20\n",
      "184/184 [==============================] - 3s 14ms/step - loss: 1071.5765\n",
      "Epoch 20/20\n",
      "184/184 [==============================] - 3s 17ms/step - loss: 274.4543\n"
     ]
    },
    {
     "data": {
      "text/plain": [
       "<tensorflow.python.keras.callbacks.History at 0x7f6e7d6ed760>"
      ]
     },
     "execution_count": 50,
     "metadata": {},
     "output_type": "execute_result"
    }
   ],
   "source": [
    "model.fit(x_train,y_train ,epochs = 20 ,batch_size = 1)"
   ]
  },
  {
   "cell_type": "code",
   "execution_count": null,
   "id": "d2c2ac34",
   "metadata": {},
   "outputs": [],
   "source": [
    "# Class LSTM:\n",
    "#     def __init__(self,units,input_shape):\n",
    "#     self.units=units\n",
    "#     def add(self,layer):\n",
    "#         self.layer = layer\n",
    "# layer = LSTM(100,(1,2))\n",
    "# layer.add()\n",
    "    "
   ]
  },
  {
   "cell_type": "code",
   "execution_count": null,
   "id": "73fa4140",
   "metadata": {},
   "outputs": [],
   "source": []
  }
 ],
 "metadata": {
  "kernelspec": {
   "display_name": "Python 3",
   "language": "python",
   "name": "python3"
  },
  "language_info": {
   "codemirror_mode": {
    "name": "ipython",
    "version": 3
   },
   "file_extension": ".py",
   "mimetype": "text/x-python",
   "name": "python",
   "nbconvert_exporter": "python",
   "pygments_lexer": "ipython3",
   "version": "3.8.5"
  }
 },
 "nbformat": 4,
 "nbformat_minor": 5
}
